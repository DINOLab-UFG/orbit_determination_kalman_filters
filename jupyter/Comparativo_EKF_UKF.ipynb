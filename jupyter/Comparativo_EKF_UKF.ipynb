{
  "nbformat": 4,
  "nbformat_minor": 0,
  "metadata": {
    "colab": {
      "provenance": []
    },
    "kernelspec": {
      "name": "python3",
      "display_name": "Python 3"
    },
    "language_info": {
      "name": "python"
    }
  },
  "cells": [
    {
      "cell_type": "markdown",
      "source": [
        "Implementação do MAE e RMSE como métricas para comparar o desempenho dos filtros\n",
        "\n"
      ],
      "metadata": {
        "id": "3LQhCXq7WXDv"
      }
    },
    {
      "cell_type": "code",
      "execution_count": null,
      "metadata": {
        "colab": {
          "base_uri": "https://localhost:8080/"
        },
        "id": "Z7DTON3gaP7P",
        "outputId": "1cd63e4d-66fd-4ecf-a3dc-d05bbcba62ab"
      },
      "outputs": [
        {
          "output_type": "execute_result",
          "data": {
            "text/plain": [
              "(1.6466524081492002, 0.8729951139436452)"
            ]
          },
          "metadata": {},
          "execution_count": 2
        }
      ],
      "source": [
        "import numpy as np\n",
        "\n",
        "# Dados verdadeiros e estimados do EKF e UKF\n",
        "dados = {\n",
        "    \"EKF\": {\n",
        "        \"verdadeiro\": [6977.560588, 0.001254, 1.711511, 3.287587, 1.385704, 4.966519, -6895.496025, -948.596259, 456.246600],\n",
        "        \"estimado\": [6978.309586, 0.006647, 1.711600, 3.287593, 4.838395, 1.513828, -6895.496025, -948.596259, 456.246600]\n",
        "    },\n",
        "    \"UKF\": {\n",
        "        \"verdadeiro\": [6977.560588, 0.001254, 1.711511, 3.287587, 1.385704, 4.966519, -6895.496025, -948.596259, 456.246600],\n",
        "        \"estimado\": [6974.977808, 0.001044, 1.711585, 3.287592, 1.692568, 4.659654, -6895.496025, -948.596259, 456.246600]\n",
        "    }\n",
        "}\n",
        "\n",
        "# Função para calcular o RMSE\n",
        "def calcular_rmse(verdadeiro, estimado):\n",
        "    return np.sqrt(np.mean((np.array(estimado) - np.array(verdadeiro)) ** 2))\n",
        "\n",
        "# Calculando o RMSE para EKF e UKF\n",
        "rmse_ekf = calcular_rmse(dados[\"EKF\"][\"verdadeiro\"], dados[\"EKF\"][\"estimado\"])\n",
        "rmse_ukf = calcular_rmse(dados[\"UKF\"][\"verdadeiro\"], dados[\"UKF\"][\"estimado\"])\n",
        "\n",
        "rmse_ekf, rmse_ukf"
      ]
    },
    {
      "cell_type": "code",
      "source": [
        "# Função para calcular o MAE\n",
        "def calcular_mae(verdadeiro, estimado):\n",
        "    return np.mean(np.abs(np.array(estimado) - np.array(verdadeiro)))\n",
        "mae_ekf = calcular_mae(dados[\"EKF\"][\"verdadeiro\"], dados[\"EKF\"][\"estimado\"])\n",
        "mae_ukf = calcular_mae(dados[\"UKF\"][\"verdadeiro\"], dados[\"UKF\"][\"estimado\"])\n",
        "mae_ekf, mae_ukf"
      ],
      "metadata": {
        "colab": {
          "base_uri": "https://localhost:8080/"
        },
        "id": "fdb_gC9Hab3B",
        "outputId": "fbd8b9ff-ee67-4224-a961-eb51f7c44f52"
      },
      "execution_count": null,
      "outputs": [
        {
          "output_type": "execute_result",
          "data": {
            "text/plain": [
              "(0.8510964444444477, 0.35519977777784884)"
            ]
          },
          "metadata": {},
          "execution_count": 3
        }
      ]
    }
  ]
}